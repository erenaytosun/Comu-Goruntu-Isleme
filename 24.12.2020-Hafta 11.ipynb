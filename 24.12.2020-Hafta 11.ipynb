{
 "cells": [
  {
   "cell_type": "code",
   "execution_count": 118,
   "metadata": {},
   "outputs": [],
   "source": [
    "import numpy as np\n",
    "\n",
    "class Perceptron(object):\n",
    "    \"\"\"Impleents a perceptron network \"\"\"\n",
    "    \n",
    "    def __init__(self,input_size,lr=1,epochs=10):\n",
    "        self.W = np.zeros(input_size+1)\n",
    "        # add one for bias\n",
    "        self.epochs = epochs\n",
    "        self.lr = lr\n",
    "        \n",
    "        \n",
    "    def activation_fn(self,x):\n",
    "        return 1 if x >= 0 else 0\n",
    "    \n",
    "    \n",
    "    def predict(self,x):\n",
    "        x = np.insert(x,0,1)\n",
    "        z = self.W.T.dot(x)\n",
    "        a = self.activation_fn(z)\n",
    "        return a\n",
    "    \n",
    "    \n",
    "    def fit(self,X,d):\n",
    "        for _ in range(self.epochs):\n",
    "            for i in range(d.shape[0]):\n",
    "                y = self.predict(X[i])\n",
    "                e = d[i] - y\n",
    "                self.W = self.W + self.lr * e * np.insert(X[i],0,1)\n"
   ]
  },
  {
   "cell_type": "code",
   "execution_count": 119,
   "metadata": {},
   "outputs": [],
   "source": [
    "X = np.array([\n",
    "        [0,0],\n",
    "        [0,1],\n",
    "        [1,0],\n",
    "        [1,1]\n",
    "    ])"
   ]
  },
  {
   "cell_type": "code",
   "execution_count": 120,
   "metadata": {},
   "outputs": [],
   "source": [
    "d = np.array([0,0,0,1])\n"
   ]
  },
  {
   "cell_type": "code",
   "execution_count": 121,
   "metadata": {},
   "outputs": [
    {
     "data": {
      "text/plain": [
       "array([[0, 0],\n",
       "       [0, 1],\n",
       "       [1, 0],\n",
       "       [1, 1]])"
      ]
     },
     "execution_count": 121,
     "metadata": {},
     "output_type": "execute_result"
    }
   ],
   "source": [
    "X"
   ]
  },
  {
   "cell_type": "code",
   "execution_count": 122,
   "metadata": {},
   "outputs": [
    {
     "data": {
      "text/plain": [
       "array([0, 0, 0, 1])"
      ]
     },
     "execution_count": 122,
     "metadata": {},
     "output_type": "execute_result"
    }
   ],
   "source": [
    "d"
   ]
  },
  {
   "cell_type": "code",
   "execution_count": 123,
   "metadata": {},
   "outputs": [],
   "source": [
    "perceptron = Perceptron(input_size=2)\n"
   ]
  },
  {
   "cell_type": "code",
   "execution_count": 124,
   "metadata": {},
   "outputs": [
    {
     "data": {
      "text/plain": [
       "array([0., 0., 0.])"
      ]
     },
     "execution_count": 124,
     "metadata": {},
     "output_type": "execute_result"
    }
   ],
   "source": [
    "perceptron.W"
   ]
  },
  {
   "cell_type": "code",
   "execution_count": 125,
   "metadata": {},
   "outputs": [],
   "source": [
    "perceptron.fit(X,d)"
   ]
  },
  {
   "cell_type": "code",
   "execution_count": 126,
   "metadata": {},
   "outputs": [
    {
     "data": {
      "text/plain": [
       "array([-3.,  2.,  1.])"
      ]
     },
     "execution_count": 126,
     "metadata": {},
     "output_type": "execute_result"
    }
   ],
   "source": [
    "perceptron.W"
   ]
  },
  {
   "cell_type": "code",
   "execution_count": 127,
   "metadata": {},
   "outputs": [
    {
     "name": "stdout",
     "output_type": "stream",
     "text": [
      "[-3.  2.  1.]\n"
     ]
    }
   ],
   "source": [
    "\n",
    "print(perceptron.W)"
   ]
  },
  {
   "cell_type": "code",
   "execution_count": 129,
   "metadata": {},
   "outputs": [
    {
     "data": {
      "text/plain": [
       "0"
      ]
     },
     "execution_count": 129,
     "metadata": {},
     "output_type": "execute_result"
    }
   ],
   "source": [
    "perceptron.predict(np.asarray([0,0]))"
   ]
  },
  {
   "cell_type": "code",
   "execution_count": 130,
   "metadata": {},
   "outputs": [
    {
     "data": {
      "text/plain": [
       "1"
      ]
     },
     "execution_count": 130,
     "metadata": {},
     "output_type": "execute_result"
    }
   ],
   "source": [
    "mp = Perceptron(5)\n",
    "x = np.asarray([1,1,0,0,0])\n",
    "mp.predict(x)"
   ]
  },
  {
   "cell_type": "code",
   "execution_count": null,
   "metadata": {},
   "outputs": [],
   "source": []
  },
  {
   "cell_type": "code",
   "execution_count": 131,
   "metadata": {},
   "outputs": [
    {
     "data": {
      "text/plain": [
       "1"
      ]
     },
     "execution_count": 131,
     "metadata": {},
     "output_type": "execute_result"
    }
   ],
   "source": [
    "mp.activation_fn(10)"
   ]
  },
  {
   "cell_type": "code",
   "execution_count": null,
   "metadata": {},
   "outputs": [],
   "source": []
  },
  {
   "cell_type": "code",
   "execution_count": 132,
   "metadata": {},
   "outputs": [
    {
     "data": {
      "text/plain": [
       "array([0., 0., 0., 0., 0., 0.])"
      ]
     },
     "execution_count": 132,
     "metadata": {},
     "output_type": "execute_result"
    }
   ],
   "source": [
    "mp.W"
   ]
  },
  {
   "cell_type": "markdown",
   "metadata": {},
   "source": [
    "1) Perceptron class tanımınında var olan fonksiyonları kısaca tanıtınız.\n",
    "\n",
    "init fonksiyonu\n",
    "Öncelikle perceptron'u oluşturmamız gerekiyor. Ağırlık vektörünü hesaplayabilmek için kullanıcıdan kaç adet veri giliceğine dair girdi almamız gerekir. Sonrasında Sapmayı dahil edebilmek için girdi boyutunu arttırmamız gerekiyor. Devir sayısını ve Öğrenme oranını fonksiyona biz dahil ettik fakat parametre ile atanarakda oluşturulabilir.\n",
    "\n",
    "activation_fn fonksiyonu\n",
    "Aktivasyon fonksiyonuna elde ettiğimiz eşik değerini parametre olarak iletiriz. Girilen parametre >=0 dan ise geriye \"1\" değerini döndürürüz. Değil ise \"0\" değerini döndürüz. Aktivasyon foknsiyonumuz bu şekilde çıktı üretmiş olur.\n",
    "\n",
    "predict fonksiyonu\n",
    "Algılayıcı vasıtasıyla gelen girdiyi çalıştırarak çıktı üretmemizi sağlayan bir tahmin fonksiyonudur. Öncelikle Eğilim değeri eklenir ve sonrasında ise dizilerin çarpımı hesaplınır. Sonra elde edilen değer aktivasyon fonksiyonuna iletilir ve sonuç tahmin edilerek çıktı üretilir.\n",
    "\n",
    "fit fonksiyonu\n",
    "Bu fonksiyon bir eğitim fonksiyonudur. Öncelikle eğitim seti yenilenmeli ve ağırlığı devir sayımıza göre güncellemeliyiz. Sonrasında ağırlık değerini güncelleme işlemimi gerçekleştirirken ise sapmayı girdiye eklememiz gereklidir. Bu işlemler tamamlandıktan sonra ardından ise tahmin değerini oluşturmuş oluyoruz ve bu sayede hatamızı hesaplayabiliyoruz. Sonrasında da güncelleme kuralımızı uygulayarak eğitim fonksiyonumuzu tamamlamış olyoruz.\n",
    "\n",
    "\n",
    "\n",
    "2- XOR için verileri değiştirip çalışmasınızı gözlemleyiniz.\n",
    "\n",
    "XOR İşlemi:\n",
    "\n",
    "X = np.array([[0,0],[0,1],[1,0],[1,1]])\n",
    "\n",
    "d = np.array([0,1,1,0])              --> girdiye uygun değerler girilmiştir.\n",
    "\n",
    "\n",
    "perceptron = Perceptron(input_size=2)\n",
    "perceptron.fit(X,d)\n",
    "\n",
    "print(perceptron.W)              çıktı --> [ 0. -1.  0.]\n",
    "\n",
    "\n",
    "predict fonksiyonu sonucu hesaplanan değerler:\n",
    "\n",
    "perceptron.predict(np.asarray([0,0]))       çıktı --> 1\n",
    "perceptron.predict(np.asarray([0,1]))       çıktı --> 1\n",
    "perceptron.predict(np.asarray([1,0]))       çıktı --> 0\n",
    "perceptron.predict(np.asarray([1,1]))       çıktı --> 0\n",
    "\n",
    "\n",
    "GÖZLEM:\n",
    "\n",
    "Sonuçları gözlemlediğimizde XOR işlemi yapıldığında predict sonuçlarının doğru çıktıları vermediğini gözlemlemiş oluyoruz. Bunun nedeni predict fonksiyonu yalnızca doğrusal ayrılabilen çıktılarda doğru sonuçlar üretebilmesidir. XOR işlemide doğrusal olarak ayrılamadı için kullanamamaktayız."
   ]
  },
  {
   "cell_type": "markdown",
   "metadata": {},
   "source": [
    "3- bu class ile dersimize kayıtlı 40 öğrenci için imza tanıması yapılırsa X ve d değerlerini ne olur, predict fonksiyonu nasıl kullanılır açıklayınız.\n",
    "\n",
    "İnput'u X değerleri ve Output'u ise d değerleri göstermektedir. X değeri de öğrencilerin imzalarını tutacağı için 40 adet imzayı dizi halinde tutmaktadır. Her öğrencinin 40 elemanlı imza dizisi bulunduğu için d değeri 40 olmalıdır. Bu değerlerin hepsi X dizisindeki imzaların öğrenciye ait karşılığıdır.\n",
    "Bir öğrencinin imzası predict fonksiyonuna girdi olarak iletilir. Sonrasında ise gelen girdiler üzerinde gerekli işlemler yapılır ve imzaların hani öğrenciye ait olduğu tespit edilerek output verilir.\n"
   ]
  },
  {
   "cell_type": "markdown",
   "metadata": {},
   "source": [
    "4- Bu modelin hatası nasıl elde edilir, kendi çözümünüzü/ yorumunuzu yazınız.\n",
    "\n",
    "Hata oranını tespit etmek için bir Error fonksiyonu oluştururdum. Bu fonksiyonda öncelikle yanlış deneme/toplam deneme işlemini yaparak elde edilen ondalıklı değeri yüzdelik olarak hesaplatırdım. Sonrasında ise elde edilen yüzdelik dilimi %100 değerinden çıkararak hata oranını tespit ederdim."
   ]
  }
 ],
 "metadata": {
  "kernelspec": {
   "display_name": "Python 3",
   "language": "python",
   "name": "python3"
  },
  "language_info": {
   "codemirror_mode": {
    "name": "ipython",
    "version": 3
   },
   "file_extension": ".py",
   "mimetype": "text/x-python",
   "name": "python",
   "nbconvert_exporter": "python",
   "pygments_lexer": "ipython3",
   "version": "3.8.3"
  }
 },
 "nbformat": 4,
 "nbformat_minor": 4
}
